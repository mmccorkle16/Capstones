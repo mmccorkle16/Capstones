{
 "cells": [
  {
   "cell_type": "code",
   "execution_count": 3,
   "id": "featured-performance",
   "metadata": {},
   "outputs": [
    {
     "name": "stdout",
     "output_type": "stream",
     "text": [
      "Requirement already satisfied: google-cloud-bigquery-storage in /opt/anaconda3/lib/python3.8/site-packages (2.3.0)\n",
      "Requirement already satisfied: libcst>=0.2.5 in /opt/anaconda3/lib/python3.8/site-packages (from google-cloud-bigquery-storage) (0.3.17)\n",
      "Requirement already satisfied: google-api-core[grpc]<2.0.0dev,>=1.22.2 in /opt/anaconda3/lib/python3.8/site-packages (from google-cloud-bigquery-storage) (1.26.1)\n",
      "Requirement already satisfied: proto-plus>=1.4.0 in /opt/anaconda3/lib/python3.8/site-packages (from google-cloud-bigquery-storage) (1.15.0)\n",
      "Requirement already satisfied: packaging>=14.3 in /opt/anaconda3/lib/python3.8/site-packages (from google-api-core[grpc]<2.0.0dev,>=1.22.2->google-cloud-bigquery-storage) (20.9)\n",
      "Requirement already satisfied: googleapis-common-protos<2.0dev,>=1.6.0 in /opt/anaconda3/lib/python3.8/site-packages (from google-api-core[grpc]<2.0.0dev,>=1.22.2->google-cloud-bigquery-storage) (1.53.0)\n",
      "Requirement already satisfied: protobuf>=3.12.0 in /opt/anaconda3/lib/python3.8/site-packages (from google-api-core[grpc]<2.0.0dev,>=1.22.2->google-cloud-bigquery-storage) (3.15.5)\n",
      "Requirement already satisfied: setuptools>=40.3.0 in /opt/anaconda3/lib/python3.8/site-packages (from google-api-core[grpc]<2.0.0dev,>=1.22.2->google-cloud-bigquery-storage) (52.0.0.post20210125)\n",
      "Requirement already satisfied: pytz in /opt/anaconda3/lib/python3.8/site-packages (from google-api-core[grpc]<2.0.0dev,>=1.22.2->google-cloud-bigquery-storage) (2021.1)\n",
      "Requirement already satisfied: six>=1.13.0 in /opt/anaconda3/lib/python3.8/site-packages (from google-api-core[grpc]<2.0.0dev,>=1.22.2->google-cloud-bigquery-storage) (1.15.0)\n",
      "Requirement already satisfied: requests<3.0.0dev,>=2.18.0 in /opt/anaconda3/lib/python3.8/site-packages (from google-api-core[grpc]<2.0.0dev,>=1.22.2->google-cloud-bigquery-storage) (2.25.1)\n",
      "Requirement already satisfied: google-auth<2.0dev,>=1.21.1 in /opt/anaconda3/lib/python3.8/site-packages (from google-api-core[grpc]<2.0.0dev,>=1.22.2->google-cloud-bigquery-storage) (1.27.1)\n",
      "Requirement already satisfied: grpcio<2.0dev,>=1.29.0 in /opt/anaconda3/lib/python3.8/site-packages (from google-api-core[grpc]<2.0.0dev,>=1.22.2->google-cloud-bigquery-storage) (1.36.1)\n",
      "Requirement already satisfied: rsa<5,>=3.1.4 in /opt/anaconda3/lib/python3.8/site-packages (from google-auth<2.0dev,>=1.21.1->google-api-core[grpc]<2.0.0dev,>=1.22.2->google-cloud-bigquery-storage) (4.7.2)\n",
      "Requirement already satisfied: pyasn1-modules>=0.2.1 in /opt/anaconda3/lib/python3.8/site-packages (from google-auth<2.0dev,>=1.21.1->google-api-core[grpc]<2.0.0dev,>=1.22.2->google-cloud-bigquery-storage) (0.2.8)\n",
      "Requirement already satisfied: cachetools<5.0,>=2.0.0 in /opt/anaconda3/lib/python3.8/site-packages (from google-auth<2.0dev,>=1.21.1->google-api-core[grpc]<2.0.0dev,>=1.22.2->google-cloud-bigquery-storage) (4.2.1)\n",
      "Requirement already satisfied: pyyaml>=5.2 in /opt/anaconda3/lib/python3.8/site-packages (from libcst>=0.2.5->google-cloud-bigquery-storage) (5.4.1)\n",
      "Requirement already satisfied: typing-inspect>=0.4.0 in /opt/anaconda3/lib/python3.8/site-packages (from libcst>=0.2.5->google-cloud-bigquery-storage) (0.6.0)\n",
      "Requirement already satisfied: typing-extensions>=3.7.4.2 in /opt/anaconda3/lib/python3.8/site-packages (from libcst>=0.2.5->google-cloud-bigquery-storage) (3.7.4.3)\n",
      "Requirement already satisfied: pyparsing>=2.0.2 in /opt/anaconda3/lib/python3.8/site-packages (from packaging>=14.3->google-api-core[grpc]<2.0.0dev,>=1.22.2->google-cloud-bigquery-storage) (2.4.7)\n",
      "Requirement already satisfied: pyasn1<0.5.0,>=0.4.6 in /opt/anaconda3/lib/python3.8/site-packages (from pyasn1-modules>=0.2.1->google-auth<2.0dev,>=1.21.1->google-api-core[grpc]<2.0.0dev,>=1.22.2->google-cloud-bigquery-storage) (0.4.8)\n",
      "Requirement already satisfied: idna<3,>=2.5 in /opt/anaconda3/lib/python3.8/site-packages (from requests<3.0.0dev,>=2.18.0->google-api-core[grpc]<2.0.0dev,>=1.22.2->google-cloud-bigquery-storage) (2.10)\n",
      "Requirement already satisfied: chardet<5,>=3.0.2 in /opt/anaconda3/lib/python3.8/site-packages (from requests<3.0.0dev,>=2.18.0->google-api-core[grpc]<2.0.0dev,>=1.22.2->google-cloud-bigquery-storage) (4.0.0)\n",
      "Requirement already satisfied: urllib3<1.27,>=1.21.1 in /opt/anaconda3/lib/python3.8/site-packages (from requests<3.0.0dev,>=2.18.0->google-api-core[grpc]<2.0.0dev,>=1.22.2->google-cloud-bigquery-storage) (1.26.3)\n",
      "Requirement already satisfied: certifi>=2017.4.17 in /opt/anaconda3/lib/python3.8/site-packages (from requests<3.0.0dev,>=2.18.0->google-api-core[grpc]<2.0.0dev,>=1.22.2->google-cloud-bigquery-storage) (2020.12.5)\n",
      "Requirement already satisfied: mypy-extensions>=0.3.0 in /opt/anaconda3/lib/python3.8/site-packages (from typing-inspect>=0.4.0->libcst>=0.2.5->google-cloud-bigquery-storage) (0.4.3)\n"
     ]
    }
   ],
   "source": [
    "! export GOOGLE_APPLICATION_CREDENTIALS='/Users/morganmccorkle/Downloads/bigquery-public-data-307913-1f2522aaf9a9.json'\n",
    "\n",
    "import os\n",
    "os.environ['GOOGLE_APPLICATION_CREDENTIALS']='/Users/morganmccorkle/Downloads/bigquery-public-data-307913-1f2522aaf9a9.json'\n",
    "\n",
    "%reload_ext google.cloud.bigquery\n",
    "\n",
    "! pip install google-cloud-bigquery-storage\n",
    "\n",
    "import pyarrow\n",
    "\n",
    "from google.cloud import bigquery\n",
    "client = bigquery.Client()"
   ]
  },
  {
   "cell_type": "code",
   "execution_count": 4,
   "id": "built-anderson",
   "metadata": {},
   "outputs": [],
   "source": [
    "import pandas as pd\n",
    "from bq_helper import BigQueryHelper\n",
    "# https://www.kaggle.com/sohier/introduction-to-the-bq-helper-package\n",
    "stackOverflow = bq_helper.BigQueryHelper(active_project=\"bigquery-public-data\",\n",
    "                                   dataset_name=\"stackoverflow\")\n",
    "\n",
    "bq_assistant = BigQueryHelper('bigquery-public-data', 'stackoverflow')\n",
    "\n",
    "bq_assistant.list_tables()\n",
    "\n",
    "bq_assistant.head('posts_questions')"
   ]
  },
  {
   "cell_type": "code",
   "execution_count": 68,
   "id": "hired-median",
   "metadata": {},
   "outputs": [
    {
     "data": {
      "text/html": [
       "<div>\n",
       "<style scoped>\n",
       "    .dataframe tbody tr th:only-of-type {\n",
       "        vertical-align: middle;\n",
       "    }\n",
       "\n",
       "    .dataframe tbody tr th {\n",
       "        vertical-align: top;\n",
       "    }\n",
       "\n",
       "    .dataframe thead th {\n",
       "        text-align: right;\n",
       "    }\n",
       "</style>\n",
       "<table border=\"1\" class=\"dataframe\">\n",
       "  <thead>\n",
       "    <tr style=\"text-align: right;\">\n",
       "      <th></th>\n",
       "      <th>id</th>\n",
       "      <th>title</th>\n",
       "      <th>body</th>\n",
       "      <th>tags</th>\n",
       "    </tr>\n",
       "  </thead>\n",
       "  <tbody>\n",
       "    <tr>\n",
       "      <th>0</th>\n",
       "      <td>18529014</td>\n",
       "      <td>Upload image in Webview crashes app</td>\n",
       "      <td>&lt;p&gt;Im trying to use webview to upload a image....</td>\n",
       "      <td>android|image|upload|webview</td>\n",
       "    </tr>\n",
       "    <tr>\n",
       "      <th>1</th>\n",
       "      <td>18655440</td>\n",
       "      <td>jQuery plugin carouFredSel doesn't set proper ...</td>\n",
       "      <td>&lt;p&gt;I'm trying to use the carouFredSel plugin f...</td>\n",
       "      <td>jquery|angularjs|watch|caroufredsel</td>\n",
       "    </tr>\n",
       "    <tr>\n",
       "      <th>2</th>\n",
       "      <td>18636374</td>\n",
       "      <td>Disposing mail files from code behind</td>\n",
       "      <td>&lt;p&gt;I have a &lt;code&gt;vb.net&lt;/code&gt; win-form appli...</td>\n",
       "      <td>.net|vb.net|winforms|.net-4.0|outlook-2010</td>\n",
       "    </tr>\n",
       "    <tr>\n",
       "      <th>3</th>\n",
       "      <td>18721581</td>\n",
       "      <td>Clean urls in php</td>\n",
       "      <td>&lt;p&gt;I'm currently testing clean url with php on...</td>\n",
       "      <td>php|.htaccess|url|mod-rewrite|url-rewriting</td>\n",
       "    </tr>\n",
       "    <tr>\n",
       "      <th>4</th>\n",
       "      <td>18739819</td>\n",
       "      <td>Storing private data at Windows Phone</td>\n",
       "      <td>&lt;p&gt;I'm developing app for storing some private...</td>\n",
       "      <td>encryption|windows-phone-8|sql-server-ce|windo...</td>\n",
       "    </tr>\n",
       "  </tbody>\n",
       "</table>\n",
       "</div>"
      ],
      "text/plain": [
       "         id                                              title  \\\n",
       "0  18529014                Upload image in Webview crashes app   \n",
       "1  18655440  jQuery plugin carouFredSel doesn't set proper ...   \n",
       "2  18636374              Disposing mail files from code behind   \n",
       "3  18721581                                  Clean urls in php   \n",
       "4  18739819              Storing private data at Windows Phone   \n",
       "\n",
       "                                                body  \\\n",
       "0  <p>Im trying to use webview to upload a image....   \n",
       "1  <p>I'm trying to use the carouFredSel plugin f...   \n",
       "2  <p>I have a <code>vb.net</code> win-form appli...   \n",
       "3  <p>I'm currently testing clean url with php on...   \n",
       "4  <p>I'm developing app for storing some private...   \n",
       "\n",
       "                                                tags  \n",
       "0                       android|image|upload|webview  \n",
       "1                jquery|angularjs|watch|caroufredsel  \n",
       "2         .net|vb.net|winforms|.net-4.0|outlook-2010  \n",
       "3        php|.htaccess|url|mod-rewrite|url-rewriting  \n",
       "4  encryption|windows-phone-8|sql-server-ce|windo...  "
      ]
     },
     "execution_count": 68,
     "metadata": {},
     "output_type": "execute_result"
    }
   ],
   "source": [
    "sql = \"\"\"\n",
    "SELECT\n",
    "    id,\n",
    "    title,\n",
    "    body, \n",
    "    tags\n",
    "FROM\n",
    "    `bigquery-public-data.stackoverflow.posts_questions`\n",
    "LIMIT 1000000\n",
    "\"\"\"\n",
    "questions = client.query(sql).to_dataframe()\n",
    "questions.head()"
   ]
  },
  {
   "cell_type": "code",
   "execution_count": null,
   "id": "failing-partnership",
   "metadata": {},
   "outputs": [],
   "source": [
    "questions['tags'] = questions['tags'].str.split('|')\n",
    "questions['title'] = questions['title'].str.lower()\n",
    "questions['body'] = questions['body'].str.lower()"
   ]
  },
  {
   "cell_type": "code",
   "execution_count": 72,
   "id": "later-mattress",
   "metadata": {},
   "outputs": [],
   "source": [
    "questions.to_csv('/Users/morganmccorkle/Documents/Springboard/Capstones/#2/questions.csv')"
   ]
  },
  {
   "cell_type": "code",
   "execution_count": 73,
   "id": "presidential-surgery",
   "metadata": {},
   "outputs": [
    {
     "data": {
      "text/plain": [
       "google.cloud.bigquery.table.TableReference"
      ]
     },
     "execution_count": 73,
     "metadata": {},
     "output_type": "execute_result"
    }
   ],
   "source": [
    "type(table_ref)"
   ]
  },
  {
   "cell_type": "code",
   "execution_count": 6,
   "id": "decreased-runner",
   "metadata": {},
   "outputs": [
    {
     "data": {
      "text/html": [
       "<div>\n",
       "<style scoped>\n",
       "    .dataframe tbody tr th:only-of-type {\n",
       "        vertical-align: middle;\n",
       "    }\n",
       "\n",
       "    .dataframe tbody tr th {\n",
       "        vertical-align: top;\n",
       "    }\n",
       "\n",
       "    .dataframe thead th {\n",
       "        text-align: right;\n",
       "    }\n",
       "</style>\n",
       "<table border=\"1\" class=\"dataframe\">\n",
       "  <thead>\n",
       "    <tr style=\"text-align: right;\">\n",
       "      <th></th>\n",
       "      <th>id</th>\n",
       "      <th>tag_name</th>\n",
       "    </tr>\n",
       "  </thead>\n",
       "  <tbody>\n",
       "    <tr>\n",
       "      <th>0</th>\n",
       "      <td>5829</td>\n",
       "      <td>traceroute</td>\n",
       "    </tr>\n",
       "    <tr>\n",
       "      <th>1</th>\n",
       "      <td>9891</td>\n",
       "      <td>wsadmin</td>\n",
       "    </tr>\n",
       "    <tr>\n",
       "      <th>2</th>\n",
       "      <td>11483</td>\n",
       "      <td>tibco-ems</td>\n",
       "    </tr>\n",
       "    <tr>\n",
       "      <th>3</th>\n",
       "      <td>11847</td>\n",
       "      <td>ctrl</td>\n",
       "    </tr>\n",
       "    <tr>\n",
       "      <th>4</th>\n",
       "      <td>13295</td>\n",
       "      <td>blacklist</td>\n",
       "    </tr>\n",
       "  </tbody>\n",
       "</table>\n",
       "</div>"
      ],
      "text/plain": [
       "      id    tag_name\n",
       "0   5829  traceroute\n",
       "1   9891     wsadmin\n",
       "2  11483   tibco-ems\n",
       "3  11847        ctrl\n",
       "4  13295   blacklist"
      ]
     },
     "execution_count": 6,
     "metadata": {},
     "output_type": "execute_result"
    }
   ],
   "source": [
    "sql = \"\"\"\n",
    "SELECT\n",
    "    id,\n",
    "    tag_name\n",
    "FROM\n",
    "    `bigquery-public-data.stackoverflow.tags`\n",
    "LIMIT 1000000\n",
    "\"\"\"\n",
    "tags = client.query(sql).to_dataframe()\n",
    "tags.head()"
   ]
  },
  {
   "cell_type": "code",
   "execution_count": 10,
   "id": "velvet-arrest",
   "metadata": {},
   "outputs": [
    {
     "data": {
      "text/html": [
       "<div>\n",
       "<style scoped>\n",
       "    .dataframe tbody tr th:only-of-type {\n",
       "        vertical-align: middle;\n",
       "    }\n",
       "\n",
       "    .dataframe tbody tr th {\n",
       "        vertical-align: top;\n",
       "    }\n",
       "\n",
       "    .dataframe thead th {\n",
       "        text-align: right;\n",
       "    }\n",
       "</style>\n",
       "<table border=\"1\" class=\"dataframe\">\n",
       "  <thead>\n",
       "    <tr style=\"text-align: right;\">\n",
       "      <th></th>\n",
       "      <th>id</th>\n",
       "      <th>tag_name</th>\n",
       "    </tr>\n",
       "  </thead>\n",
       "  <tbody>\n",
       "    <tr>\n",
       "      <th>0</th>\n",
       "      <td>5829</td>\n",
       "      <td>traceroute</td>\n",
       "    </tr>\n",
       "    <tr>\n",
       "      <th>1</th>\n",
       "      <td>9891</td>\n",
       "      <td>wsadmin</td>\n",
       "    </tr>\n",
       "    <tr>\n",
       "      <th>2</th>\n",
       "      <td>11483</td>\n",
       "      <td>tibco-ems</td>\n",
       "    </tr>\n",
       "    <tr>\n",
       "      <th>3</th>\n",
       "      <td>11847</td>\n",
       "      <td>ctrl</td>\n",
       "    </tr>\n",
       "    <tr>\n",
       "      <th>4</th>\n",
       "      <td>13295</td>\n",
       "      <td>blacklist</td>\n",
       "    </tr>\n",
       "  </tbody>\n",
       "</table>\n",
       "</div>"
      ],
      "text/plain": [
       "      id    tag_name\n",
       "0   5829  traceroute\n",
       "1   9891     wsadmin\n",
       "2  11483   tibco-ems\n",
       "3  11847        ctrl\n",
       "4  13295   blacklist"
      ]
     },
     "execution_count": 10,
     "metadata": {},
     "output_type": "execute_result"
    }
   ],
   "source": [
    "tags['tag_name'] = tags['tag_name'].str.lower()\n",
    "\n",
    "tags.head()"
   ]
  },
  {
   "cell_type": "code",
   "execution_count": 9,
   "id": "living-charlotte",
   "metadata": {},
   "outputs": [],
   "source": [
    "tags_file = tags.to_csv('/Users/morganmccorkle/Documents/Springboard/Capstones/#2/tags.csv')"
   ]
  },
  {
   "cell_type": "code",
   "execution_count": null,
   "id": "egyptian-switzerland",
   "metadata": {},
   "outputs": [],
   "source": []
  }
 ],
 "metadata": {
  "kernelspec": {
   "display_name": "Python 3",
   "language": "python",
   "name": "python3"
  },
  "language_info": {
   "codemirror_mode": {
    "name": "ipython",
    "version": 3
   },
   "file_extension": ".py",
   "mimetype": "text/x-python",
   "name": "python",
   "nbconvert_exporter": "python",
   "pygments_lexer": "ipython3",
   "version": "3.8.8"
  }
 },
 "nbformat": 4,
 "nbformat_minor": 5
}
